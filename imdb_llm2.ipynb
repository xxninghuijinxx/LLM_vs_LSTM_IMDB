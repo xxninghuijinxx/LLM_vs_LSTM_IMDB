{
 "cells": [
  {
   "cell_type": "code",
   "execution_count": 1,
   "id": "17d52988-ddf5-4c54-b64d-9cb8a1e83375",
   "metadata": {},
   "outputs": [],
   "source": [
    "import torch\n",
    "import torch.nn as nn\n",
    "from torch.utils.data import Dataset, DataLoader\n",
    "import pandas as pd\n",
    "import re\n",
    "import nltk\n",
    "from sklearn.model_selection import train_test_split\n",
    "from collections import Counter\n",
    "from torch.nn.utils.rnn import pad_sequence\n",
    "import time"
   ]
  },
  {
   "cell_type": "code",
   "execution_count": 2,
   "id": "c7f63487-153d-4c9b-830b-72b06ebe250e",
   "metadata": {},
   "outputs": [],
   "source": [
    "df = pd.read_csv(\"IMDB Dataset.csv\")"
   ]
  },
  {
   "cell_type": "code",
   "execution_count": 3,
   "id": "2c1e9d2c-246e-4ed3-9689-2edd4d011edf",
   "metadata": {},
   "outputs": [],
   "source": [
    "# 2. 分词\n",
    "def tokenize(text):\n",
    "    text = re.sub(r\"<.*?>\", \"\", text)\n",
    "    return text.lower().split()\n",
    "\n",
    "df['tokens'] = df['review'].apply(tokenize)"
   ]
  },
  {
   "cell_type": "code",
   "execution_count": 4,
   "id": "50dd4c79-e41a-44b8-9d0b-46266c1eaae0",
   "metadata": {},
   "outputs": [],
   "source": [
    "# 3. 构建词表\n",
    "all_tokens = [word for tokens in df['tokens'] for word in tokens]\n",
    "vocab = ['<PAD>', '<UNK>'] + [word for word, _ in Counter(all_tokens).most_common(10000)]\n",
    "word2idx = {word: idx for idx, word in enumerate(vocab)}\n"
   ]
  },
  {
   "cell_type": "code",
   "execution_count": 5,
   "id": "c978c65e-6fa5-4bf3-805a-3b715add40c1",
   "metadata": {},
   "outputs": [],
   "source": [
    "# 4. 编码文本和标签\n",
    "def encode(tokens):\n",
    "    return [word2idx.get(word, word2idx['<UNK>']) for word in tokens]\n",
    "\n",
    "df['encoded'] = df['tokens'].apply(encode)\n",
    "df['label'] = df['sentiment'].map({'positive': 1, 'negative': 0})\n"
   ]
  },
  {
   "cell_type": "code",
   "execution_count": 6,
   "id": "20d5d2d6-88f5-443e-a182-936bb2df10d8",
   "metadata": {},
   "outputs": [],
   "source": [
    "# 5. 划分训练/测试集\n",
    "X_train, X_test, y_train, y_test = train_test_split(\n",
    "    df['encoded'], df['label'], test_size=0.2, random_state=42)"
   ]
  },
  {
   "cell_type": "code",
   "execution_count": 7,
   "id": "e6c944b0-c690-48b8-b3bd-480037b1fbb6",
   "metadata": {},
   "outputs": [],
   "source": [
    "# 6. 自定义Dataset\n",
    "class IMDBDataset(Dataset):\n",
    "    def __init__(self, texts, labels):\n",
    "        self.texts = [torch.tensor(x, dtype=torch.long) for x in texts]\n",
    "        self.labels = torch.tensor(labels.values, dtype=torch.float)\n",
    "\n",
    "    def __len__(self):\n",
    "        return len(self.labels)\n",
    "\n",
    "    def __getitem__(self, idx):\n",
    "        return self.texts[idx], self.labels[idx]\n",
    "\n",
    "def collate_fn(batch):\n",
    "    texts, labels = zip(*batch)\n",
    "    texts_padded = pad_sequence(texts, batch_first=True, padding_value=0)\n",
    "    return texts_padded, torch.tensor(labels)\n",
    "\n",
    "train_ds = IMDBDataset(X_train, y_train)\n",
    "test_ds = IMDBDataset(X_test, y_test)\n",
    "train_loader = DataLoader(train_ds, batch_size=32, shuffle=True, collate_fn=collate_fn)\n",
    "test_loader = DataLoader(test_ds, batch_size=32, collate_fn=collate_fn)"
   ]
  },
  {
   "cell_type": "code",
   "execution_count": null,
   "id": "ce7f5ffb-0e43-4ee9-97b8-9ef7d401de79",
   "metadata": {},
   "outputs": [],
   "source": [
    "\n",
    "class BiRNN(nn.Module):\n",
    "    def __init__(self, vocab_size, embed_size, hidden_size):\n",
    "        super(BiRNN, self).__init__()\n",
    "        self.embedding = nn.Embedding(vocab_size, embed_size, padding_idx=0)\n",
    "        self.rnn = nn.RNN(embed_size, hidden_size, batch_first=True, bidirectional=True)\n",
    "        self.fc = nn.Linear(hidden_size * 2, 1)\n",
    "        self.sigmoid = nn.Sigmoid()\n",
    "\n",
    "    def forward(self, x):\n",
    "        embedded = self.embedding(x)\n",
    "        output, _ = self.rnn(embedded)\n",
    "        out = self.fc(output[:, -1, :])\n",
    "        return self.sigmoid(out).squeeze()"
   ]
  },
  {
   "cell_type": "code",
   "execution_count": 9,
   "id": "60f50a55-d6e5-4584-be8d-d28fc0e6f842",
   "metadata": {},
   "outputs": [],
   "source": [
    "class BiLSTM(nn.Module):\n",
    "    def __init__(self, vocab_size, embed_size, hidden_size):\n",
    "        super(BiLSTM, self).__init__()\n",
    "        self.embedding = nn.Embedding(vocab_size, embed_size, padding_idx=0)\n",
    "        self.lstm = nn.LSTM(embed_size, hidden_size, batch_first=True, bidirectional=True)\n",
    "        #单项\n",
    "        #self.fc = nn.Linear(hidden_size, 1)  # 不乘2了\n",
    "        #双向\n",
    "        self.fc = nn.Linear(hidden_size * 2, 1)  # 双向所以乘以2\n",
    "        self.sigmoid = nn.Sigmoid()\n",
    "\n",
    "    def forward(self, x):\n",
    "        embedded = self.embedding(x)                        # [batch_size, seq_len, embed_dim]\n",
    "        output, (hn, cn) = self.lstm(embedded)              # output: [batch_size, seq_len, hidden_dim*2]\n",
    "        #双向\n",
    "        final_feature = torch.cat((hn[-2,:,:], hn[-1,:,:]), dim=1)  # [batch_size, hidden_dim*2]\n",
    "        out = self.fc(final_feature)                        # [batch_size, 1]\n",
    "        return self.sigmoid(out).squeeze()\n",
    "        #单向\n",
    "        #final_feature = hn[-1, :, :]  # shape: [batch_size, hidden_dim]\n",
    "        #out = self.fc(final_feature)\n",
    "        #return self.sigmoid(out).squeeze()"
   ]
  },
  {
   "cell_type": "code",
   "execution_count": 10,
   "id": "498f58c1-9b3a-4b02-b7a9-9e9f8589f502",
   "metadata": {},
   "outputs": [
    {
     "name": "stdout",
     "output_type": "stream",
     "text": [
      "Epoch 1, Loss: 0.6517\n",
      "Epoch 2, Loss: 0.5656\n",
      "Epoch 3, Loss: 0.4601\n",
      "Epoch 4, Loss: 0.3604\n",
      "Epoch 5, Loss: 0.3222\n",
      "Epoch 6, Loss: 0.2955\n",
      "Epoch 7, Loss: 0.2336\n",
      "Epoch 8, Loss: 0.1975\n",
      "Epoch 9, Loss: 0.1663\n",
      "Epoch 10, Loss: 0.1397\n"
     ]
    }
   ],
   "source": [
    "# 8. 训练模型\n",
    "start_time = time.time()\n",
    "device = torch.device('cuda' if torch.cuda.is_available() else 'cpu')\n",
    "model = BiLSTM(len(word2idx), 64, 64).to(device)\n",
    "criterion = nn.BCELoss()\n",
    "optimizer = torch.optim.Adam(model.parameters(), lr=0.001)\n",
    "\n",
    "for epoch in range(10):\n",
    "    model.train()\n",
    "    total_loss = 0\n",
    "    for inputs, labels in train_loader:\n",
    "        inputs, labels = inputs.to(device), labels.to(device)\n",
    "        outputs = model(inputs)\n",
    "        loss = criterion(outputs, labels)\n",
    "        optimizer.zero_grad()\n",
    "        loss.backward()\n",
    "        optimizer.step()\n",
    "        total_loss += loss.item()\n",
    "    print(f\"Epoch {epoch+1}, Loss: {total_loss/len(train_loader):.4f}\")\n",
    "end_time = time.time()"
   ]
  },
  {
   "cell_type": "code",
   "execution_count": 11,
   "id": "6501cdc9-a19e-450b-9d2d-53eb96c2decd",
   "metadata": {},
   "outputs": [
    {
     "name": "stdout",
     "output_type": "stream",
     "text": [
      "训练总耗时: 79.45 秒\n"
     ]
    }
   ],
   "source": [
    "print(f\"训练总耗时: {end_time - start_time:.2f} 秒\")"
   ]
  },
  {
   "cell_type": "code",
   "execution_count": 12,
   "id": "592c9be6-8708-4b2f-8c04-bcff9fc7e95c",
   "metadata": {},
   "outputs": [],
   "source": [
    "torch.save(model.state_dict(), 'bidirection_lstm_model.pth')"
   ]
  },
  {
   "cell_type": "code",
   "execution_count": 13,
   "id": "dd4074c1-cd30-4142-915c-4ff3354495ab",
   "metadata": {},
   "outputs": [
    {
     "name": "stdout",
     "output_type": "stream",
     "text": [
      "Test Accuracy: 88.34%\n"
     ]
    }
   ],
   "source": [
    "# 9. 评估模型\n",
    "model.eval()\n",
    "correct = total = 0\n",
    "with torch.no_grad():\n",
    "    for inputs, labels in test_loader:\n",
    "        inputs, labels = inputs.to(device), labels.to(device)\n",
    "        outputs = model(inputs)\n",
    "        preds = (outputs > 0.5).float()\n",
    "        correct += (preds == labels).sum().item()\n",
    "        total += labels.size(0)\n",
    "print(f\"Test Accuracy: {correct / total * 100:.2f}%\")"
   ]
  },
  {
   "cell_type": "code",
   "execution_count": null,
   "id": "399e2ea1-3a2e-417a-a4a5-b532eaffd4b6",
   "metadata": {},
   "outputs": [],
   "source": []
  }
 ],
 "metadata": {
  "kernelspec": {
   "display_name": "Python (torch_full)",
   "language": "python",
   "name": "torch_full"
  },
  "language_info": {
   "codemirror_mode": {
    "name": "ipython",
    "version": 3
   },
   "file_extension": ".py",
   "mimetype": "text/x-python",
   "name": "python",
   "nbconvert_exporter": "python",
   "pygments_lexer": "ipython3",
   "version": "3.12.9"
  }
 },
 "nbformat": 4,
 "nbformat_minor": 5
}
